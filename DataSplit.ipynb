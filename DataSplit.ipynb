{
 "cells": [
  {
   "cell_type": "code",
   "execution_count": 35,
   "metadata": {},
   "outputs": [
    {
     "name": "stderr",
     "output_type": "stream",
     "text": [
      "[nltk_data] Downloading package punkt to\n",
      "[nltk_data]     /Users/manuelnunezmartinez/nltk_data...\n",
      "[nltk_data]   Package punkt is already up-to-date!\n"
     ]
    }
   ],
   "source": [
    "import pandas as pd\n",
    "import nltk\n",
    "nltk.download('punkt')  # Download necessary models\n",
    "\n",
    "from nltk.tokenize import sent_tokenize"
   ]
  },
  {
   "cell_type": "code",
   "execution_count": 40,
   "metadata": {},
   "outputs": [],
   "source": [
    "center = pd.read_csv('clean_data/moderate_outlets.csv')\n",
    "right = pd.read_csv('clean_data/right_outlets.csv')\n",
    "left = pd.read_csv('clean_data/left_outlets.csv')"
   ]
  },
  {
   "cell_type": "code",
   "execution_count": 41,
   "metadata": {},
   "outputs": [],
   "source": [
    "# prepare all dataframes for training and testing \n",
    "center = center[['summary']]\n",
    "center['class'] = 1\n",
    "\n",
    "left = left[['summary']]\n",
    "left['class'] = 0\n",
    "\n",
    "right = right[['summary']]\n",
    "right['class'] = 2"
   ]
  },
  {
   "cell_type": "code",
   "execution_count": 42,
   "metadata": {},
   "outputs": [
    {
     "data": {
      "text/html": [
       "<div>\n",
       "<style scoped>\n",
       "    .dataframe tbody tr th:only-of-type {\n",
       "        vertical-align: middle;\n",
       "    }\n",
       "\n",
       "    .dataframe tbody tr th {\n",
       "        vertical-align: top;\n",
       "    }\n",
       "\n",
       "    .dataframe thead th {\n",
       "        text-align: right;\n",
       "    }\n",
       "</style>\n",
       "<table border=\"1\" class=\"dataframe\">\n",
       "  <thead>\n",
       "    <tr style=\"text-align: right;\">\n",
       "      <th></th>\n",
       "      <th>summary</th>\n",
       "      <th>class</th>\n",
       "    </tr>\n",
       "  </thead>\n",
       "  <tbody>\n",
       "    <tr>\n",
       "      <th>0</th>\n",
       "      <td>WASHINGTON (AP) — President Donald Trump urged...</td>\n",
       "      <td>1</td>\n",
       "    </tr>\n",
       "    <tr>\n",
       "      <th>1</th>\n",
       "      <td>WASHINGTON (AP) — The Justice Department says ...</td>\n",
       "      <td>1</td>\n",
       "    </tr>\n",
       "    <tr>\n",
       "      <th>2</th>\n",
       "      <td>NASHUA, N.H. (AP) — Christina Darling finally ...</td>\n",
       "      <td>1</td>\n",
       "    </tr>\n",
       "    <tr>\n",
       "      <th>3</th>\n",
       "      <td>Vice President Kamala Harris is expected to ho...</td>\n",
       "      <td>1</td>\n",
       "    </tr>\n",
       "    <tr>\n",
       "      <th>4</th>\n",
       "      <td>WASHINGTON (AP) — Senators are racing to seal ...</td>\n",
       "      <td>1</td>\n",
       "    </tr>\n",
       "  </tbody>\n",
       "</table>\n",
       "</div>"
      ],
      "text/plain": [
       "                                             summary  class\n",
       "0  WASHINGTON (AP) — President Donald Trump urged...      1\n",
       "1  WASHINGTON (AP) — The Justice Department says ...      1\n",
       "2  NASHUA, N.H. (AP) — Christina Darling finally ...      1\n",
       "3  Vice President Kamala Harris is expected to ho...      1\n",
       "4  WASHINGTON (AP) — Senators are racing to seal ...      1"
      ]
     },
     "execution_count": 42,
     "metadata": {},
     "output_type": "execute_result"
    }
   ],
   "source": [
    "right.head()\n",
    "left.head()\n",
    "center.head()"
   ]
  },
  {
   "cell_type": "code",
   "execution_count": 43,
   "metadata": {},
   "outputs": [],
   "source": [
    "# The function below strips away the first three and last three sentences from every article. \n",
    "def strip_sentences(article):\n",
    "    # Tokenize the article into sentences\n",
    "    sentences = sent_tokenize(article)\n",
    "    # Remove the first 3 and last 3 sentences\n",
    "    stripped_sentences = sentences[3:-3]\n",
    "    # Join the remaining sentences back into a single string\n",
    "    return ' '.join(stripped_sentences)"
   ]
  },
  {
   "cell_type": "code",
   "execution_count": 44,
   "metadata": {},
   "outputs": [],
   "source": [
    "# Remove Nan Entries from the each sata frame \n",
    "center = center[center['summary'].apply(type) == str]\n",
    "left = left[left['summary'].apply(type) == str]\n",
    "right = right[right['summary'].apply(type) == str]"
   ]
  },
  {
   "cell_type": "code",
   "execution_count": 45,
   "metadata": {},
   "outputs": [
    {
     "name": "stdout",
     "output_type": "stream",
     "text": [
      "Nan Entries in Center articles: 0\n"
     ]
    }
   ],
   "source": [
    "# remove Nan entries \n",
    "float_entries_center = center[center['summary'].apply(type) == float]\n",
    "# Display the first few rows with float entries to inspect them\n",
    "print(\"Nan Entries in Center articles:\", float_entries_center.shape[0])"
   ]
  },
  {
   "cell_type": "code",
   "execution_count": 46,
   "metadata": {},
   "outputs": [
    {
     "name": "stdout",
     "output_type": "stream",
     "text": [
      "Nan Entries in Right articles: 0\n"
     ]
    }
   ],
   "source": [
    "# remove Nan entries \n",
    "float_entries_right = right[right['summary'].apply(type) == float]\n",
    "# Display the first few rows with float entries to inspect them\n",
    "print(\"Nan Entries in Right articles:\", float_entries_right.shape[0])"
   ]
  },
  {
   "cell_type": "code",
   "execution_count": 47,
   "metadata": {},
   "outputs": [
    {
     "name": "stdout",
     "output_type": "stream",
     "text": [
      "Nan Entries in Left articles: 0\n"
     ]
    }
   ],
   "source": [
    "# remove Nan entries \n",
    "float_entries_left = left[left['summary'].apply(type) == float]\n",
    "# Display the first few rows with float entries to inspect them\n",
    "print(\"Nan Entries in Left articles:\", float_entries_left.shape[0])"
   ]
  },
  {
   "cell_type": "code",
   "execution_count": 48,
   "metadata": {},
   "outputs": [],
   "source": [
    "# strip sentences from each data frame \n",
    "center['summary'] = center['summary'].apply(strip_sentences)\n",
    "right['summary'] = right['summary'].apply(strip_sentences)\n",
    "left['summary'] = left['summary'].apply(strip_sentences)"
   ]
  },
  {
   "cell_type": "code",
   "execution_count": 49,
   "metadata": {},
   "outputs": [],
   "source": [
    "joined_df = pd.concat([center, left, right], ignore_index=True)\n"
   ]
  },
  {
   "cell_type": "code",
   "execution_count": 50,
   "metadata": {},
   "outputs": [
    {
     "name": "stdout",
     "output_type": "stream",
     "text": [
      "(0, 2)\n"
     ]
    }
   ],
   "source": [
    "# Find entries in the 'summary' column that are of type float\n",
    "float_entries = joined_df[joined_df['summary'].apply(type) == float]\n",
    "\n",
    "# Display the first few rows with float entries to inspect them\n",
    "print(float_entries.shape)"
   ]
  },
  {
   "cell_type": "code",
   "execution_count": 51,
   "metadata": {},
   "outputs": [],
   "source": [
    "#save moderate outlets clean data \n",
    "center.to_csv(\"model_data/NER_center.csv\")\n",
    "left.to_csv(\"model_data/NER_left.csv\")\n",
    "right.to_csv(\"model_data/NER_right.csv\")\n",
    "joined_df.to_csv(\"model_data/CNN_data.csv\")"
   ]
  }
 ],
 "metadata": {
  "kernelspec": {
   "display_name": "Python 3",
   "language": "python",
   "name": "python3"
  },
  "language_info": {
   "codemirror_mode": {
    "name": "ipython",
    "version": 3
   },
   "file_extension": ".py",
   "mimetype": "text/x-python",
   "name": "python",
   "nbconvert_exporter": "python",
   "pygments_lexer": "ipython3",
   "version": "3.9.16"
  }
 },
 "nbformat": 4,
 "nbformat_minor": 2
}
